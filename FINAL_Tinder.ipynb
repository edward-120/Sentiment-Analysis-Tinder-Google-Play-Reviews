{
  "nbformat": 4,
  "nbformat_minor": 0,
  "metadata": {
    "colab": {
      "name": "FINAL Tinder.ipynb",
      "provenance": [],
      "collapsed_sections": [],
      "include_colab_link": true
    },
    "kernelspec": {
      "name": "python3",
      "display_name": "Python 3"
    },
    "language_info": {
      "name": "python"
    }
  },
  "cells": [
    {
      "cell_type": "markdown",
      "metadata": {
        "id": "view-in-github",
        "colab_type": "text"
      },
      "source": [
        "<a href=\"https://colab.research.google.com/github/leticiari03/Tinder-Love-it-or-Hate-It/blob/main/FINAL_Tinder.ipynb\" target=\"_parent\"><img src=\"https://colab.research.google.com/assets/colab-badge.svg\" alt=\"Open In Colab\"/></a>"
      ]
    },
    {
      "cell_type": "code",
      "execution_count": 24,
      "metadata": {
        "id": "hzCU23ncX_bo",
        "colab": {
          "base_uri": "https://localhost:8080/"
        },
        "outputId": "c5cb7dac-9945-4911-b163-0ff34d66b183"
      },
      "outputs": [
        {
          "output_type": "stream",
          "name": "stdout",
          "text": [
            "[nltk_data] Downloading package stopwords to /root/nltk_data...\n",
            "[nltk_data]   Package stopwords is already up-to-date!\n"
          ]
        }
      ],
      "source": [
        "import pandas as pd\n",
        "import numpy as np\n",
        "import seaborn as sns\n",
        "import re\n",
        "import string\n",
        "from string import punctuation\n",
        "import nltk\n",
        "from nltk.corpus import stopwords\n",
        "nltk.download(\"stopwords\")\n",
        "import matplotlib.pyplot as plt\n",
        "from sklearn.model_selection import train_test_split\n",
        "from sklearn.feature_extraction.text import CountVectorizer\n",
        "from sklearn.feature_extraction.text import TfidfTransformer\n",
        "import tensorflow as tf\n",
        "from tensorflow.keras.models import Sequential\n",
        "from tensorflow.keras.layers import Dense, Activation, Dropout\n",
        "from tensorflow.keras.callbacks import EarlyStopping"
      ]
    },
    {
      "cell_type": "code",
      "source": [
        "from google.colab import drive\n",
        "drive.mount('/content/drive',force_remount=True)\n",
        "drive_dir = '/content/drive/Shareddrives/Tinder - Project 4/'"
      ],
      "metadata": {
        "id": "c_CtYF6rYVmW",
        "colab": {
          "base_uri": "https://localhost:8080/"
        },
        "outputId": "df48c4c9-5726-480e-a3a1-2138e687d9b9"
      },
      "execution_count": 25,
      "outputs": [
        {
          "output_type": "stream",
          "name": "stdout",
          "text": [
            "Mounted at /content/drive\n"
          ]
        }
      ]
    },
    {
      "cell_type": "code",
      "source": [
        "df=pd.read_csv(drive_dir + 'tinder_google_play_reviews.csv')"
      ],
      "metadata": {
        "id": "2DGebz7e3vtu"
      },
      "execution_count": 26,
      "outputs": []
    },
    {
      "cell_type": "code",
      "source": [
        "df['content'] = df['content'].fillna('').astype(str).str.replace(r'[^A-Za-z ]', '', regex=True).replace('', np.nan, regex=False)"
      ],
      "metadata": {
        "id": "kA65oGnlUSLW"
      },
      "execution_count": 27,
      "outputs": []
    },
    {
      "cell_type": "code",
      "source": [
        "df = df.drop(['reviewId','userName','userImage'],axis=1)"
      ],
      "metadata": {
        "id": "GXY0O5zEjvmZ"
      },
      "execution_count": 28,
      "outputs": []
    },
    {
      "cell_type": "code",
      "source": [
        "df['at']=pd.to_datetime(df['at'])"
      ],
      "metadata": {
        "id": "oxbb2xEO0Nnk"
      },
      "execution_count": 29,
      "outputs": []
    },
    {
      "cell_type": "code",
      "source": [
        "df['date'] = df['at'].dt.date\n",
        "df['time'] = df['at'].dt.time\n",
        "df['day'] = df['at'].dt.day"
      ],
      "metadata": {
        "id": "HaAjguOK0OEt"
      },
      "execution_count": 30,
      "outputs": []
    },
    {
      "cell_type": "code",
      "source": [
        "df[\"month\"] = df['date'].map(lambda x: x.month)\n",
        "df[\"year\"] = df['date'].map(lambda x: x.year)"
      ],
      "metadata": {
        "id": "w07zT3yA-XUV"
      },
      "execution_count": 31,
      "outputs": []
    },
    {
      "cell_type": "code",
      "source": [
        "df=df.drop(['replyContent','repliedAt','reviewCreatedVersion'], axis=1)"
      ],
      "metadata": {
        "id": "j-WPwTXIDx9J"
      },
      "execution_count": 32,
      "outputs": []
    },
    {
      "cell_type": "code",
      "source": [
        "df = df.dropna()"
      ],
      "metadata": {
        "id": "cC9u6CFsYaAE"
      },
      "execution_count": 33,
      "outputs": []
    },
    {
      "cell_type": "code",
      "source": [
        "df = df[df.score != 0]"
      ],
      "metadata": {
        "id": "sXh3Rokw0Hb9"
      },
      "execution_count": 34,
      "outputs": []
    },
    {
      "cell_type": "code",
      "source": [
        "df['score'] = df['score'].astype(np.uint8)\n",
        "df['thumbsUpCount'] = df['thumbsUpCount'].astype(np.uint8)"
      ],
      "metadata": {
        "id": "4SLfG0LJ10nC",
        "colab": {
          "base_uri": "https://localhost:8080/"
        },
        "outputId": "e538bc55-d94f-468b-e8ea-d0fa247c32f5"
      },
      "execution_count": 35,
      "outputs": [
        {
          "output_type": "stream",
          "name": "stderr",
          "text": [
            "/usr/local/lib/python3.7/dist-packages/ipykernel_launcher.py:1: SettingWithCopyWarning: \n",
            "A value is trying to be set on a copy of a slice from a DataFrame.\n",
            "Try using .loc[row_indexer,col_indexer] = value instead\n",
            "\n",
            "See the caveats in the documentation: https://pandas.pydata.org/pandas-docs/stable/user_guide/indexing.html#returning-a-view-versus-a-copy\n",
            "  \"\"\"Entry point for launching an IPython kernel.\n",
            "/usr/local/lib/python3.7/dist-packages/ipykernel_launcher.py:2: SettingWithCopyWarning: \n",
            "A value is trying to be set on a copy of a slice from a DataFrame.\n",
            "Try using .loc[row_indexer,col_indexer] = value instead\n",
            "\n",
            "See the caveats in the documentation: https://pandas.pydata.org/pandas-docs/stable/user_guide/indexing.html#returning-a-view-versus-a-copy\n",
            "  \n"
          ]
        }
      ]
    },
    {
      "cell_type": "markdown",
      "source": [
        "**Polarity Column**"
      ],
      "metadata": {
        "id": "fq28PKHlKVUx"
      }
    },
    {
      "cell_type": "code",
      "source": [
        "df['Polarity_Rating'] = df['score'].apply(lambda x: 'Positive' if x > 3 else('Neutral' if x == 3  else 'Negative'))"
      ],
      "metadata": {
        "id": "rC_M31oHLcVN",
        "colab": {
          "base_uri": "https://localhost:8080/"
        },
        "outputId": "24add92b-01cd-4b55-f89a-225c3b028fd6"
      },
      "execution_count": 36,
      "outputs": [
        {
          "output_type": "stream",
          "name": "stderr",
          "text": [
            "/usr/local/lib/python3.7/dist-packages/ipykernel_launcher.py:1: SettingWithCopyWarning: \n",
            "A value is trying to be set on a copy of a slice from a DataFrame.\n",
            "Try using .loc[row_indexer,col_indexer] = value instead\n",
            "\n",
            "See the caveats in the documentation: https://pandas.pydata.org/pandas-docs/stable/user_guide/indexing.html#returning-a-view-versus-a-copy\n",
            "  \"\"\"Entry point for launching an IPython kernel.\n"
          ]
        }
      ]
    },
    {
      "cell_type": "code",
      "source": [
        "tinder_palette = [\"#FD297B\",\"#FF5864\",'#FF655B']"
      ],
      "metadata": {
        "id": "6dlGFB6m8Aha"
      },
      "execution_count": 37,
      "outputs": []
    },
    {
      "cell_type": "code",
      "source": [
        "tinder_palette = [\"#FD297B\",\"#FF5864\",'#FF655B']\n",
        "sns.set_style('whitegrid')\n",
        "sns.countplot(x='score',data=df, palette=tinder_palette)"
      ],
      "metadata": {
        "colab": {
          "base_uri": "https://localhost:8080/",
          "height": 297
        },
        "id": "pdbpYPAELtIo",
        "outputId": "3456e48b-42bd-48d2-bfe5-4b25d377af3f"
      },
      "execution_count": 38,
      "outputs": [
        {
          "output_type": "execute_result",
          "data": {
            "text/plain": [
              "<matplotlib.axes._subplots.AxesSubplot at 0x7f7c8321d3d0>"
            ]
          },
          "metadata": {},
          "execution_count": 38
        },
        {
          "output_type": "display_data",
          "data": {
            "text/plain": [
              "<Figure size 432x288 with 1 Axes>"
            ],
            "image/png": "[encoded data removed]"
          },
          "metadata": {}
        }
      ]
    },
    {
      "cell_type": "code",
      "source": [
        "sns.set_style('whitegrid')\n",
        "sns.countplot(x='Polarity_Rating',data=df, palette=tinder_palette)"
      ],
      "metadata": {
        "colab": {
          "base_uri": "https://localhost:8080/",
          "height": 297
        },
        "id": "tWyAOXkzL7PD",
        "outputId": "26ae5ef0-e78b-4a6a-ad02-c8c6a21e6169"
      },
      "execution_count": 39,
      "outputs": [
        {
          "output_type": "execute_result",
          "data": {
            "text/plain": [
              "<matplotlib.axes._subplots.AxesSubplot at 0x7f7c833a7310>"
            ]
          },
          "metadata": {},
          "execution_count": 39
        },
        {
          "output_type": "display_data",
          "data": {
            "text/plain": [
              "<Figure size 432x288 with 1 Axes>"
            ],
            "image/png": "[encoded data removed]"
          },
          "metadata": {}
        }
      ]
    },
    {
      "cell_type": "code",
      "source": [
        "df_Positive = df[df['Polarity_Rating'] == 'Positive']\n",
        "df_Neutral = df[df['Polarity_Rating'] == 'Neutral']\n",
        "df_Negative = df[df['Polarity_Rating'] == 'Negative']"
      ],
      "metadata": {
        "id": "wZwe3teMMGuq"
      },
      "execution_count": 40,
      "outputs": []
    },
    {
      "cell_type": "markdown",
      "source": [
        "Sample negative and neutral dataset and create a final dataset:"
      ],
      "metadata": {
        "id": "oMJCzjmeNQdj"
      }
    },
    {
      "cell_type": "code",
      "source": [
        "df_Neutral_over = df_Neutral.sample(n=8000, replace=True)\n",
        "df_Negative_over = df_Negative.sample(n=8000, replace=True)\n",
        "df = pd.concat([df_Positive, df_Neutral_over, df_Negative_over], axis=0)"
      ],
      "metadata": {
        "id": "N1a52m9DMlhP"
      },
      "execution_count": 41,
      "outputs": []
    },
    {
      "cell_type": "markdown",
      "source": [
        "**Text Preprocessing:**"
      ],
      "metadata": {
        "id": "HGFE70TkNYOA"
      }
    },
    {
      "cell_type": "code",
      "source": [
        "def get_text_processing(text, remove_punctuation=True, remove_stopwords=True):\n",
        "    stpword = stopwords.words('english')\n",
        "    if remove_punctuation:\n",
        "      try:\n",
        "        text_chars = [char for char in text if char not in string.punctuation]\n",
        "        text = ''.join(text_chars)\n",
        "      except:\n",
        "        print(text)\n",
        "    if remove_stopwords:\n",
        "      text = ' '.join([word for word in text.split() if word.lower() not in stpword])\n",
        "    return text"
      ],
      "metadata": {
        "id": "u5PB1HJaNbJo"
      },
      "execution_count": 42,
      "outputs": []
    },
    {
      "cell_type": "code",
      "source": [
        "df['review'] = df['content'].apply(get_text_processing)"
      ],
      "metadata": {
        "id": "8hDEWqo-NhvK"
      },
      "execution_count": 43,
      "outputs": []
    },
    {
      "cell_type": "code",
      "source": [
        "from collections import Counter\n",
        "most_occur = Counter(df['review']).most_common(20)\n",
        "most_occur"
      ],
      "metadata": {
        "colab": {
          "base_uri": "https://localhost:8080/"
        },
        "id": "oPxCEN0D0yfi",
        "outputId": "097c955d-d57a-46a7-c79b-0fd88ac93de9"
      },
      "execution_count": 44,
      "outputs": [
        {
          "output_type": "execute_result",
          "data": {
            "text/plain": [
              "[('Good', 12046),\n",
              " ('good', 6856),\n",
              " ('Nice', 5773),\n",
              " ('Great', 4924),\n",
              " ('Awesome', 4099),\n",
              " ('Love', 3363),\n",
              " ('Great app', 3107),\n",
              " ('Good app', 2634),\n",
              " ('Cool', 2594),\n",
              " ('Nice app', 2578),\n",
              " ('nice', 2548),\n",
              " ('great', 1822),\n",
              " ('love', 1526),\n",
              " ('Ok', 1423),\n",
              " ('good app', 1410),\n",
              " ('cool', 1394),\n",
              " ('', 1358),\n",
              " ('ok', 1254),\n",
              " ('Excellent', 1230),\n",
              " ('Fun', 1219)]"
            ]
          },
          "metadata": {},
          "execution_count": 44
        }
      ]
    },
    {
      "cell_type": "code",
      "source": [
        "df['review'] = df['review'].apply(lambda x: x.lower())"
      ],
      "metadata": {
        "id": "bZQSw5X_c7E3"
      },
      "execution_count": 45,
      "outputs": []
    },
    {
      "cell_type": "markdown",
      "source": [
        "Stemming Review Column"
      ],
      "metadata": {
        "id": "0Tk7vZoH1DCE"
      }
    },
    {
      "cell_type": "code",
      "source": [
        "from nltk.stem.snowball import SnowballStemmer"
      ],
      "metadata": {
        "id": "qlOdw5Nj09hs"
      },
      "execution_count": 46,
      "outputs": []
    },
    {
      "cell_type": "code",
      "source": [
        "ss=SnowballStemmer(language=\"english\")"
      ],
      "metadata": {
        "id": "X-XcN5cI0_Rv"
      },
      "execution_count": 47,
      "outputs": []
    },
    {
      "cell_type": "code",
      "source": [
        "df['review'] = df['review'].str.split()\n",
        "df['stemmed'] = df['review'].apply(lambda x: [ss.stem(y) for y in x]) # Stem every word.\n",
        "df = df.drop(columns=['review'])"
      ],
      "metadata": {
        "id": "lQ7edDmy1BQC"
      },
      "execution_count": 48,
      "outputs": []
    },
    {
      "cell_type": "code",
      "source": [
        "df['stemmed']= df['stemmed'].str.join(' ')"
      ],
      "metadata": {
        "id": "kwP_Ru_W1Q4e"
      },
      "execution_count": 49,
      "outputs": []
    },
    {
      "cell_type": "markdown",
      "source": [
        "Vectorization"
      ],
      "metadata": {
        "id": "MCseMG7d1et2"
      }
    },
    {
      "cell_type": "code",
      "source": [
        "from sklearn.feature_extraction.text import CountVectorizer"
      ],
      "metadata": {
        "id": "K7OHnJ5a1Lfl"
      },
      "execution_count": 50,
      "outputs": []
    },
    {
      "cell_type": "code",
      "source": [
        "from sklearn.feature_extraction.text import TfidfVectorizer\n",
        "vectorizer1 = TfidfVectorizer(max_features=1500)\n",
        "X = vectorizer1.fit_transform(df['stemmed'])"
      ],
      "metadata": {
        "id": "IwPsU-5u1b-F"
      },
      "execution_count": 51,
      "outputs": []
    },
    {
      "cell_type": "code",
      "source": [
        "X = vectorizer1.fit_transform(df['stemmed']).toarray()\n",
        "y = df['score']"
      ],
      "metadata": {
        "id": "F51OHktJ5zuE"
      },
      "execution_count": 52,
      "outputs": []
    },
    {
      "cell_type": "code",
      "source": [
        "vectorizer1.get_feature_names_out()"
      ],
      "metadata": {
        "colab": {
          "base_uri": "https://localhost:8080/"
        },
        "id": "oZoO1to853Se",
        "outputId": "d61d2a17-62f4-4538-d1af-48afbd150af2"
      },
      "execution_count": 53,
      "outputs": [
        {
          "output_type": "execute_result",
          "data": {
            "text/plain": [
              "array(['aap', 'abil', 'abl', ..., 'youv', 'yup', 'zero'], dtype=object)"
            ]
          },
          "metadata": {},
          "execution_count": 53
        }
      ]
    },
    {
      "cell_type": "code",
      "source": [
        "from sklearn.decomposition import PCA\n",
        "pca = PCA(n_components=50)"
      ],
      "metadata": {
        "id": "3k7EXvdu1lQv"
      },
      "execution_count": 54,
      "outputs": []
    },
    {
      "cell_type": "code",
      "source": [
        "cv = CountVectorizer(max_features = 1500)\n",
        "X = pca.fit_transform(cv.fit_transform(df['stemmed']).toarray())\n",
        "y = df['Polarity_Rating']"
      ],
      "metadata": {
        "id": "HhbBAzg91lzQ"
      },
      "execution_count": null,
      "outputs": []
    },
    {
      "cell_type": "code",
      "source": [
        "np.cumsum(pca.explained_variance_ratio_)"
      ],
      "metadata": {
        "id": "Gp9noDbS2L9t"
      },
      "execution_count": null,
      "outputs": []
    },
    {
      "cell_type": "markdown",
      "source": [
        "**Data Analysis**"
      ],
      "metadata": {
        "id": "R9B7oHke7B7l"
      }
    },
    {
      "cell_type": "code",
      "source": [
        "df_positive = df[df['Polarity_Rating']=='Positive']\n",
        "df_neutral = df[df['Polarity_Rating']=='Neutral']\n",
        "df_negative = df[df['Polarity_Rating']=='Negative']"
      ],
      "metadata": {
        "id": "5R8rxfph7FA0"
      },
      "execution_count": null,
      "outputs": []
    },
    {
      "cell_type": "code",
      "source": [
        "STOPWORDS = set(stopwords.words('english'))\n",
        "text = df_negative['content'].tolist() "
      ],
      "metadata": {
        "id": "fK3z4tqq7J4A"
      },
      "execution_count": null,
      "outputs": []
    },
    {
      "cell_type": "code",
      "source": [
        "from wordcloud import WordCloud\n",
        "from PIL import ImageFilter\n",
        "from PIL import Image\n",
        "\n",
        "text=Counter(df_negative['content']).most_common(20)\n",
        "wordcloud = WordCloud(max_font_size=50, max_words=20, background_color=\"white\",colormap='spring',stopwords=STOPWORDS).generate(str(text))\n",
        "\n",
        "plt.figure(figsize=(15,5))\n",
        "plt.imshow(wordcloud)\n",
        "plt.axis(\"off\")\n",
        "plt.show()"
      ],
      "metadata": {
        "id": "EwNXW_687MaM"
      },
      "execution_count": null,
      "outputs": []
    },
    {
      "cell_type": "code",
      "source": [
        "from wordcloud import WordCloud\n",
        "text=Counter(df_positive['content']).most_common(30)\n",
        "wordcloud = WordCloud(max_font_size=55, max_words=30, background_color=\"white\",colormap='spring',stopwords=STOPWORDS).generate(str(text))\n",
        "\n",
        "plt.figure(figsize=(15,5))\n",
        "plt.imshow(wordcloud)\n",
        "plt.axis(\"off\")\n",
        "plt.show()"
      ],
      "metadata": {
        "id": "eB3_TQHn7OGf"
      },
      "execution_count": null,
      "outputs": []
    },
    {
      "cell_type": "code",
      "source": [
        "from wordcloud import WordCloud\n",
        "text=Counter(df_neutral['content']).most_common(30)\n",
        "wordcloud = WordCloud(max_font_size=55, max_words=30, background_color=\"white\",colormap='spring',stopwords=STOPWORDS).generate(str(text))\n",
        "\n",
        "plt.figure(figsize=(15,5))\n",
        "plt.imshow(wordcloud)\n",
        "plt.axis(\"off\")\n",
        "plt.show()"
      ],
      "metadata": {
        "id": "v_qYQ8yy7T9O"
      },
      "execution_count": null,
      "outputs": []
    },
    {
      "cell_type": "code",
      "source": [
        "sns.set_style('whitegrid')\n",
        "sns.countplot(x='month',data=df_negative, palette=tinder_palette)"
      ],
      "metadata": {
        "id": "8hgpLh0F7g1X"
      },
      "execution_count": null,
      "outputs": []
    },
    {
      "cell_type": "code",
      "source": [
        "sns.set_style('whitegrid')\n",
        "sns.countplot(x='month',data=df_positive, palette=tinder_palette)"
      ],
      "metadata": {
        "id": "3BDogPTL7itl"
      },
      "execution_count": null,
      "outputs": []
    },
    {
      "cell_type": "code",
      "source": [
        "sns.set_style('whitegrid')\n",
        "sns.countplot(x='month',data=df_neutral, palette=tinder_palette)"
      ],
      "metadata": {
        "id": "ExRQE77n7mGC"
      },
      "execution_count": null,
      "outputs": []
    },
    {
      "cell_type": "code",
      "source": [
        "sns.set_style('whitegrid')\n",
        "sns.countplot(x='year',data=df_neutral, palette=tinder_palette)"
      ],
      "metadata": {
        "id": "z07rfnxP7ofz"
      },
      "execution_count": null,
      "outputs": []
    },
    {
      "cell_type": "code",
      "source": [
        "sns.set_style('whitegrid')\n",
        "sns.countplot(x='year',data=df_positive, palette=tinder_palette)"
      ],
      "metadata": {
        "id": "zd0uKzJo7pIh"
      },
      "execution_count": null,
      "outputs": []
    },
    {
      "cell_type": "code",
      "source": [
        "sns.set_style('whitegrid')\n",
        "sns.countplot(x='year',data=df_neutral, palette=tinder_palette)"
      ],
      "metadata": {
        "id": "jKAao0nt7rPT"
      },
      "execution_count": null,
      "outputs": []
    },
    {
      "cell_type": "code",
      "source": [
        "sns.set_style('whitegrid')\n",
        "sns.countplot(x='day',data=df_negative, palette=tinder_palette)"
      ],
      "metadata": {
        "id": "G9lcj_vU7t-R"
      },
      "execution_count": null,
      "outputs": []
    },
    {
      "cell_type": "code",
      "source": [
        "sns.set_style('whitegrid')\n",
        "sns.countplot(x='day',data=df_positive, palette=tinder_palette)"
      ],
      "metadata": {
        "id": "les_Je707wHe"
      },
      "execution_count": null,
      "outputs": []
    },
    {
      "cell_type": "code",
      "source": [
        "sns.set_style('whitegrid')\n",
        "sns.countplot(x='day',data=df_neutral, palette=tinder_palette)"
      ],
      "metadata": {
        "id": "RHuf57cJ7x-O"
      },
      "execution_count": null,
      "outputs": []
    },
    {
      "cell_type": "markdown",
      "source": [
        "**Modeling**"
      ],
      "metadata": {
        "id": "DGiC6aOB2QAr"
      }
    },
    {
      "cell_type": "code",
      "source": [
        "from sklearn.metrics import confusion_matrix"
      ],
      "metadata": {
        "id": "kHYE4XYv2Sj6"
      },
      "execution_count": null,
      "outputs": []
    },
    {
      "cell_type": "code",
      "source": [
        "X_train, X_test, y_train, y_test = train_test_split(X, y, test_size = 0.2, random_state = 0)"
      ],
      "metadata": {
        "id": "6n3riPoh4wQp"
      },
      "execution_count": null,
      "outputs": []
    },
    {
      "cell_type": "code",
      "source": [
        "from sklearn.tree import DecisionTreeClassifier"
      ],
      "metadata": {
        "id": "JhfPMm_F2Vpm"
      },
      "execution_count": null,
      "outputs": []
    },
    {
      "cell_type": "code",
      "source": [
        "classifier = DecisionTreeClassifier()\n",
        "classifier.fit(X_train,y_train)"
      ],
      "metadata": {
        "id": "JkEKynuR2XtT"
      },
      "execution_count": null,
      "outputs": []
    },
    {
      "cell_type": "code",
      "source": [
        "classifier.score(X_test,y_test)"
      ],
      "metadata": {
        "id": "bLZvmya02aaz"
      },
      "execution_count": null,
      "outputs": []
    },
    {
      "cell_type": "code",
      "source": [
        "from sklearn.ensemble import RandomForestClassifier"
      ],
      "metadata": {
        "id": "VA8bsZyJ2ce3"
      },
      "execution_count": null,
      "outputs": []
    },
    {
      "cell_type": "code",
      "source": [
        "rf_clf = RandomForestClassifier()\n",
        "\n",
        "rf_clf.fit(X_train, y_train)"
      ],
      "metadata": {
        "id": "8BLRODzA2eZt"
      },
      "execution_count": null,
      "outputs": []
    },
    {
      "cell_type": "code",
      "source": [
        "rf_clf.score(X_test,y_test)"
      ],
      "metadata": {
        "id": "9HHkr5_f2gqs"
      },
      "execution_count": null,
      "outputs": []
    },
    {
      "cell_type": "code",
      "source": [
        "from sklearn.model_selection import GridSearchCV\n",
        "import numpy as np\n",
        "\n",
        "\n",
        "parameters = {'max_depth':np.arange(1,10,3), \n",
        "              'min_samples_split':np.arange(2,10,3),\n",
        "              'min_samples_leaf':np.arange(1,10,3),\n",
        "              'n_estimators':np.arange(100,300,100)}"
      ],
      "metadata": {
        "id": "2KjHrFb92iiJ"
      },
      "execution_count": null,
      "outputs": []
    },
    {
      "cell_type": "code",
      "source": [
        "grid = GridSearchCV(rf_clf,parameters)"
      ],
      "metadata": {
        "id": "qTqsu9pc2l5G"
      },
      "execution_count": null,
      "outputs": []
    },
    {
      "cell_type": "code",
      "source": [
        "grid.fit(X_train,y_train)"
      ],
      "metadata": {
        "id": "50Tbfegp2nwC"
      },
      "execution_count": null,
      "outputs": []
    },
    {
      "cell_type": "code",
      "source": [
        "grid.best_estimator_.score(X_test,y_test)"
      ],
      "metadata": {
        "id": "-JMGK6bL2pxK"
      },
      "execution_count": null,
      "outputs": []
    },
    {
      "cell_type": "code",
      "source": [
        "confusion_matrix(y_test, grid.best_estimator_.predict(X_test))"
      ],
      "metadata": {
        "id": "Ixhq2dHN2yJm"
      },
      "execution_count": null,
      "outputs": []
    },
    {
      "cell_type": "code",
      "source": [
        "grid.best_params_"
      ],
      "metadata": {
        "id": "FQdNo4Wg2ykJ"
      },
      "execution_count": null,
      "outputs": []
    },
    {
      "cell_type": "code",
      "source": [
        "np.unique(grid.best_estimator_.predict(X_test))"
      ],
      "metadata": {
        "id": "8GFiYkSn20tH"
      },
      "execution_count": null,
      "outputs": []
    },
    {
      "cell_type": "code",
      "source": [
        "from sklearn.datasets import make_classification\n",
        "from sklearn.metrics import confusion_matrix, ConfusionMatrixDisplay\n",
        "from sklearn.svm import SVC"
      ],
      "metadata": {
        "id": "bVqO8clT23eb"
      },
      "execution_count": null,
      "outputs": []
    },
    {
      "cell_type": "code",
      "source": [
        "predictions = rf_clf.predict(X_test)\n",
        "cm = confusion_matrix(y_test, predictions, labels=rf_clf.classes_,normalize='true')\n",
        "disp = ConfusionMatrixDisplay(confusion_matrix=cm,display_labels=rf_clf.classes_)\n",
        "disp.plot()\n",
        "plt.grid(False)\n",
        "plt.show()"
      ],
      "metadata": {
        "id": "0sz8PSVm3Jb_"
      },
      "execution_count": null,
      "outputs": []
    },
    {
      "cell_type": "code",
      "source": [
        "from sklearn.feature_extraction.text import CountVectorizer\n",
        "train_df, test_df= train_test_split(df, train_size=0.7)\n",
        "vectorizer = CountVectorizer(token_pattern=r'\\b\\w+\\b')\n",
        "train_matrix = vectorizer.fit_transform(train_df['stemmed'])\n",
        "test_matrix = vectorizer.transform(test_df['stemmed'])\n",
        "white_check_mark\n",
        "eyes\n",
        "raised_hands\n",
        "\n",
        "\n",
        "train_df, test_df= train_test_split(df, train_size=0.7)\n",
        "X_train = train_matrix\n",
        "X_test = test_matrix\n",
        "y_train = train_df['stemmed']\n",
        "y_test = test_df['stemmed']"
      ],
      "metadata": {
        "id": "gmaTeEyh3Ujn"
      },
      "execution_count": null,
      "outputs": []
    },
    {
      "cell_type": "code",
      "source": [
        "from sklearn.feature_extraction.text import CountVectorizer\n",
        "train_df, test_df= train_test_split(df, train_size=0.7)\n",
        "X_train, X_test, y_train, y_test = train_test_split(X, y,random_state=0 )"
      ],
      "metadata": {
        "id": "sW8_node5_dp"
      },
      "execution_count": null,
      "outputs": []
    },
    {
      "cell_type": "code",
      "source": [
        "from sklearn.linear_model import LogisticRegression"
      ],
      "metadata": {
        "id": "b0FH9bv86GSt"
      },
      "execution_count": null,
      "outputs": []
    },
    {
      "cell_type": "code",
      "source": [
        "lr = LogisticRegression(max_iter=1000)"
      ],
      "metadata": {
        "id": "C20gAna86Iqj"
      },
      "execution_count": null,
      "outputs": []
    },
    {
      "cell_type": "code",
      "source": [
        "lr.fit(X_train,y_train)"
      ],
      "metadata": {
        "id": "H904YO686KiS"
      },
      "execution_count": null,
      "outputs": []
    },
    {
      "cell_type": "code",
      "source": [
        "lr.score(X_test,y_test)"
      ],
      "metadata": {
        "id": "Q0wuTGZQ6Mt3"
      },
      "execution_count": null,
      "outputs": []
    },
    {
      "cell_type": "code",
      "source": [
        "clf = SVC(random_state=0)\n",
        "clf.fit(X_train, y_train)\n",
        "SVC(random_state=0)"
      ],
      "metadata": {
        "id": "9pqvj6mj6NLc"
      },
      "execution_count": null,
      "outputs": []
    },
    {
      "cell_type": "code",
      "source": [
        "predictions = clf.predict(X_test)\n",
        "cm = confusion_matrix(y_test, predictions, labels=clf.classes_)\n",
        "disp = ConfusionMatrixDisplay(confusion_matrix=cm,display_labels=clf.classes_)\n",
        "disp.plot()\n",
        "plt.grid(False)\n",
        "plt.show()"
      ],
      "metadata": {
        "id": "k79k55dr6YGW"
      },
      "execution_count": null,
      "outputs": []
    },
    {
      "cell_type": "code",
      "source": [
        "confusion_matrix(y_test, lr.predict(X_test), labels=[1,2,3,4,5],normalize=\"true\")"
      ],
      "metadata": {
        "id": "pAhXwKUe6c3-"
      },
      "execution_count": null,
      "outputs": []
    },
    {
      "cell_type": "code",
      "source": [
        "import ipywidgets as widgets\n",
        "from ipywidgets import interact"
      ],
      "metadata": {
        "id": "VWnAdc786drq"
      },
      "execution_count": null,
      "outputs": []
    }
  ]
}